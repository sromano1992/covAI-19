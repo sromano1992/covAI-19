{
 "cells": [
  {
   "cell_type": "code",
   "execution_count": 17,
   "metadata": {},
   "outputs": [
    {
     "name": "stdout",
     "output_type": "stream",
     "text": [
      "Fitting 3 folds for each of 6 candidates, totalling 18 fits\n"
     ]
    },
    {
     "name": "stderr",
     "output_type": "stream",
     "text": [
      "[Parallel(n_jobs=1)]: Done  18 out of  18 | elapsed:  2.1min finished\n"
     ]
    }
   ],
   "source": [
    "from sklearn import svm, linear_model\n",
    "from sklearn.model_selection import cross_validate\n",
    "from sklearn.model_selection import GridSearchCV\n",
    "import pickle\n",
    "\n",
    "X = pickle.load( open( \"X_China.p\", \"rb\" ) )\n",
    "y_confirmed = pickle.load( open( \"y_confirmed_china.p\", \"rb\" ) )\n",
    "y_death = pickle.load( open( \"y_death_china.p\", \"rb\" ) )\n",
    "y_recovered = pickle.load( open( \"y_recovered_china.p\", \"rb\" ) )\n",
    "\n",
    "y = y_confirmed\n",
    "svr = svm.SVR()\n",
    "parameters = {'kernel':('linear', 'rbf', 'poly'), 'C':[1, 10, 100], 'gamma':['auto']}\n",
    "clf = GridSearchCV(svr, parameters, verbose=1, n_jobs=8)\n",
    "clf.fit(X, y)\n",
    "serialized = pickle.dump(clf, open( \"svr_grid_search.p\", \"wb\" ), protocol=0) # protocol 0 is printable ASCII\n"
   ]
  },
  {
   "cell_type": "code",
   "execution_count": 12,
   "metadata": {},
   "outputs": [],
   "source": []
  },
  {
   "cell_type": "code",
   "execution_count": 13,
   "metadata": {},
   "outputs": [
    {
     "data": {
      "text/plain": [
       "-155.26296788667"
      ]
     },
     "execution_count": 13,
     "metadata": {},
     "output_type": "execute_result"
    }
   ],
   "source": []
  },
  {
   "cell_type": "code",
   "execution_count": null,
   "metadata": {},
   "outputs": [],
   "source": []
  }
 ],
 "metadata": {
  "kernelspec": {
   "display_name": "Python 3",
   "language": "python",
   "name": "python3"
  },
  "language_info": {
   "codemirror_mode": {
    "name": "ipython",
    "version": 3
   },
   "file_extension": ".py",
   "mimetype": "text/x-python",
   "name": "python",
   "nbconvert_exporter": "python",
   "pygments_lexer": "ipython3",
   "version": "3.6.4"
  }
 },
 "nbformat": 4,
 "nbformat_minor": 2
}
